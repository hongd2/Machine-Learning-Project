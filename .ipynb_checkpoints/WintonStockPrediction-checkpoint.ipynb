{
 "cells": [
  {
   "cell_type": "code",
   "execution_count": 2,
   "metadata": {
    "collapsed": false
   },
   "outputs": [],
   "source": [
    "import numpy as np\n",
    "import math\n",
    "import matplotlib.pyplot as plt\n",
    "from numpy import genfromtxt\n",
    "\n",
    "train_data = genfromtxt('data\\\\train_sample.csv', delimiter = ',')\n",
    "#train_data = np.delete(train_data, 0, 0) ### Delete 1st line, not needed for train_sample.csv ###\n",
    "\n",
    "train_time = train_data[:,28:207]\n",
    "SMA180 = np.zeros((11,179))\n",
    "\n",
    "#Simple Moving Average for T1-180\n",
    "\n",
    "for i in range(11):\n",
    "    SMA180[i,0] = train_time[i,0]\n",
    "    for j in range(1,179):\n",
    "        if math.isnan(train_time[i,j]):\n",
    "            train_time[i,j] = SMA180[i,j-1]\n",
    "        SMA180[i,j] = np.mean(train_time[i,0:j+1])\n",
    "\n",
    "#Plot the time data\n",
    "for i in range (11):\n",
    "    plt.plot(train_time[i,:])\n",
    "    plt.plot(SMA180[i,:])\n",
    "    plt.xlabel('Time interval (1-180 minutes)')\n",
    "    plt.ylabel('Return % (decimal)')\n",
    "    plt.title('Simple Moving Average @ ID: %d' %int(train_data[i,0]))\n",
    "    plt = plt\n",
    "    plt.show()\n",
    "          \n",
    "\n"
   ]
  }
 ],
 "metadata": {
  "kernelspec": {
   "display_name": "Python 3",
   "language": "python",
   "name": "python3"
  },
  "language_info": {
   "codemirror_mode": {
    "name": "ipython",
    "version": 3
   },
   "file_extension": ".py",
   "mimetype": "text/x-python",
   "name": "python",
   "nbconvert_exporter": "python",
   "pygments_lexer": "ipython3",
   "version": "3.4.3"
  }
 },
 "nbformat": 4,
 "nbformat_minor": 0
}
